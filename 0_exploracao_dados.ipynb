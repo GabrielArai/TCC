{
 "cells": [
  {
   "cell_type": "code",
   "execution_count": 1,
   "metadata": {},
   "outputs": [
    {
     "name": "stderr",
     "output_type": "stream",
     "text": [
      "/usr/lib/python3/dist-packages/requests/__init__.py:89: RequestsDependencyWarning: urllib3 (1.26.12) or chardet (3.0.4) doesn't match a supported version!\n",
      "  warnings.warn(\"urllib3 ({}) or chardet ({}) doesn't match a supported \"\n"
     ]
    }
   ],
   "source": [
    "import pandas as pd\n",
    "import numpy as np\n",
    "import requests\n",
    "import datetime as dt\n",
    "from bs4 import BeautifulSoup\n",
    "import ast\n",
    "from utils._funcs import creating_club_dataframe,Transfmkt"
   ]
  },
  {
   "cell_type": "markdown",
   "metadata": {},
   "source": [
    "##### Club name and id"
   ]
  },
  {
   "cell_type": "code",
   "execution_count": null,
   "metadata": {},
   "outputs": [],
   "source": []
  },
  {
   "cell_type": "markdown",
   "metadata": {},
   "source": [
    "##### Funcs"
   ]
  },
  {
   "cell_type": "code",
   "execution_count": 2,
   "metadata": {},
   "outputs": [
    {
     "ename": "NameError",
     "evalue": "name 'lst_test' is not defined",
     "output_type": "error",
     "traceback": [
      "\u001b[0;31m---------------------------------------------------------------------------\u001b[0m",
      "\u001b[0;31mNameError\u001b[0m                                 Traceback (most recent call last)",
      "\u001b[1;32m/home/gabriel/projetos/github/TCC/0_exploracao_dados.ipynb Cell 5\u001b[0m in \u001b[0;36m<cell line: 55>\u001b[0;34m()\u001b[0m\n\u001b[1;32m     <a href='vscode-notebook-cell://wsl%2Bubuntu/home/gabriel/projetos/github/TCC/0_exploracao_dados.ipynb#W4sdnNjb2RlLXJlbW90ZQ%3D%3D?line=53'>54</a>\u001b[0m lst_final \u001b[39m=\u001b[39m []\n\u001b[1;32m     <a href='vscode-notebook-cell://wsl%2Bubuntu/home/gabriel/projetos/github/TCC/0_exploracao_dados.ipynb#W4sdnNjb2RlLXJlbW90ZQ%3D%3D?line=54'>55</a>\u001b[0m \u001b[39mfor\u001b[39;00m \u001b[39mlist\u001b[39m \u001b[39min\u001b[39;00m saisons:\n\u001b[0;32m---> <a href='vscode-notebook-cell://wsl%2Bubuntu/home/gabriel/projetos/github/TCC/0_exploracao_dados.ipynb#W4sdnNjb2RlLXJlbW90ZQ%3D%3D?line=55'>56</a>\u001b[0m     lst_final\u001b[39m.\u001b[39mappend(get_saison_perf_links(\u001b[39mlist\u001b[39m,lst_test))\n\u001b[1;32m     <a href='vscode-notebook-cell://wsl%2Bubuntu/home/gabriel/projetos/github/TCC/0_exploracao_dados.ipynb#W4sdnNjb2RlLXJlbW90ZQ%3D%3D?line=57'>58</a>\u001b[0m lst_final \u001b[39m=\u001b[39m \u001b[39mstr\u001b[39m(lst_final)[\u001b[39m1\u001b[39m:\u001b[39m-\u001b[39m\u001b[39m1\u001b[39m]\n\u001b[1;32m     <a href='vscode-notebook-cell://wsl%2Bubuntu/home/gabriel/projetos/github/TCC/0_exploracao_dados.ipynb#W4sdnNjb2RlLXJlbW90ZQ%3D%3D?line=58'>59</a>\u001b[0m lst_final \u001b[39m=\u001b[39m \u001b[39meval\u001b[39m(lst_final)[\u001b[39m0\u001b[39m]\n",
      "\u001b[0;31mNameError\u001b[0m: name 'lst_test' is not defined"
     ]
    }
   ],
   "source": [
    "lst1 = ['05/06', '21/22', '10/11', '14/15']\n",
    "lst_sep = []\n",
    "# xx/yy - 21/22\n",
    "\n",
    "# for lst in lst1:\n",
    "#     lst_sep.append([lst])\n",
    "\n",
    "\n",
    "def get_all_seasons(temp,temp_limit):\n",
    "    all = []\n",
    "    all.append(temp)\n",
    "    if temp == temp_limit:\n",
    "        pass\n",
    "    else:\n",
    "        seasons_n = int(temp_limit[3:]) - int(temp[:2])\n",
    "        for season in range(1,seasons_n):\n",
    "            if float(temp[3:]) < 9.0:\n",
    "                temp = str(temp[3:]) + str('/0'+str(int(float(temp[3:])+1)))\n",
    "                all.append(temp)\n",
    "            else:\n",
    "                temp = str(temp[3:]) + str('/'+str(int(float(temp[3:])+1)))\n",
    "                all.append(temp)\n",
    "    return all\n",
    "\n",
    "\n",
    "get_all_seasons('00/01','21/22')\n",
    "\n",
    "for l in lst1:\n",
    "    lst_sep.append(get_all_seasons(l,'21/22'))\n",
    "\n",
    "\n",
    "def get_saison(list):\n",
    "    saison = []\n",
    "    for item in list:\n",
    "        saison.append(str('20'+item[:2]))\n",
    "\n",
    "    return saison\n",
    "\n",
    "def get_saison_perf_links(saisons_list,perf_links):\n",
    "    all_perf_season_links = []\n",
    "    for pflink in perf_links:\n",
    "        perf_season_links = []\n",
    "        for saison in saisons_list:\n",
    "            perf_season_links.append(str(pflink + '/plus/0?saison='+saison+'&verein=&liga=&wettbewerb=&pos=&trainer_id='))\n",
    "        all_perf_season_links.append(perf_season_links)\n",
    "    \n",
    "    return all_perf_season_links\n",
    "\n",
    "\n",
    "saisons = []\n",
    "for list in lst_sep:\n",
    "    saisons.append(get_saison(list))\n",
    "\n",
    "lst_final = []\n",
    "for list in saisons:\n",
    "    lst_final.append(get_saison_perf_links(list,lst_test))\n",
    "\n",
    "lst_final = str(lst_final)[1:-1]\n",
    "lst_final = eval(lst_final)[0]\n",
    "\n",
    "# lst_final = get_saison_perf_links((list for list in saisons),lst_test)\n",
    "lst_final"
   ]
  },
  {
   "cell_type": "markdown",
   "metadata": {},
   "source": [
    "## Transfermkt Class"
   ]
  },
  {
   "cell_type": "code",
   "execution_count": 2,
   "metadata": {},
   "outputs": [],
   "source": [
    "\"\"\"\n",
    "To make the request to the page we have to inform the\n",
    "website that we are a browser and that is why we\n",
    "use the headers variable\n",
    "\"\"\"\n",
    "headers = {'User-Agent': 'Mozilla/5.0 (Windows NT 10.0; Win64; x64) AppleWebKit/537.36 (KHTML, like Gecko) Chrome/105.0.0.0 Safari/537.36'}\n",
    "transf = Transfmkt('se-palmeiras','1023', headers)\n",
    "transf.creating_lists()"
   ]
  },
  {
   "cell_type": "code",
   "execution_count": 3,
   "metadata": {},
   "outputs": [
    {
     "data": {
      "text/plain": [
       "['Weverton',\n",
       " 'Marcelo Lomba',\n",
       " 'Vinicius Silvestre',\n",
       " 'Gustavo Gómez',\n",
       " 'Murilo',\n",
       " 'Luan',\n",
       " 'Henri',\n",
       " 'Benjamín Kuscevic',\n",
       " 'Joaquín Piquerez',\n",
       " 'Jorge',\n",
       " 'Vanderlan',\n",
       " 'Marcos Rocha',\n",
       " 'Mayke',\n",
       " 'Gustavo Garcia',\n",
       " 'Danilo',\n",
       " 'Jailson',\n",
       " 'Fabinho',\n",
       " 'Gabriel Menino',\n",
       " 'Zé Rafael',\n",
       " 'Eduard Atuesta',\n",
       " 'Raphael Veiga',\n",
       " 'Gustavo Scarpa',\n",
       " 'Dudu',\n",
       " 'Wesley',\n",
       " 'Giovani',\n",
       " 'Tabata',\n",
       " 'Breno Lopes',\n",
       " 'Endrick',\n",
       " 'Rony',\n",
       " 'José Manuel López',\n",
       " 'Rafael Navarro',\n",
       " 'Miguel Merentiel']"
      ]
     },
     "execution_count": 3,
     "metadata": {},
     "output_type": "execute_result"
    }
   ],
   "source": [
    "transf.get_players_seasons()"
   ]
  },
  {
   "cell_type": "code",
   "execution_count": 4,
   "metadata": {},
   "outputs": [
    {
     "data": {
      "text/plain": [
       "['/club-libertad-asuncion/kader/verein/9875/saison_id/2011',\n",
       " '/club-libertad-asuncion/kader/verein/9875/saison_id/2012',\n",
       " '/club-libertad-asuncion/kader/verein/9875/saison_id/2013',\n",
       " '/club-atletico-lanus/kader/verein/333/saison_id/2014',\n",
       " '/club-atletico-lanus/kader/verein/333/saison_id/2015',\n",
       " '/ac-milan/kader/verein/5/saison_id/2016',\n",
       " '/ac-milan/kader/verein/5/saison_id/2017',\n",
       " '/se-palmeiras/kader/verein/1023/saison_id/2018',\n",
       " '/ac-milan/kader/verein/5/saison_id/2019',\n",
       " '/se-palmeiras/kader/verein/1023/saison_id/2020',\n",
       " '/se-palmeiras/kader/verein/1023/saison_id/2021']"
      ]
     },
     "execution_count": 4,
     "metadata": {},
     "output_type": "execute_result"
    }
   ],
   "source": [
    "transf.get_values_links()[3]"
   ]
  },
  {
   "cell_type": "code",
   "execution_count": 5,
   "metadata": {},
   "outputs": [
    {
     "data": {
      "text/plain": [
       "[[0,\n",
       "  0,\n",
       "  0,\n",
       "  50000,\n",
       "  300000,\n",
       "  0,\n",
       "  0,\n",
       "  500000,\n",
       "  500000,\n",
       "  3500000,\n",
       "  3000000,\n",
       "  4000000,\n",
       "  3000000,\n",
       "  3000000,\n",
       "  3500000,\n",
       "  5000000,\n",
       "  4500000],\n",
       " [500000,\n",
       "  1000000,\n",
       "  1000000,\n",
       "  1000000,\n",
       "  2000000,\n",
       "  3200000,\n",
       "  2500000,\n",
       "  1500000,\n",
       "  2000000,\n",
       "  1400000,\n",
       "  1300000,\n",
       "  750000],\n",
       " [100000, 100000, 100000, 100000, 100000, 100000, 150000, 400000],\n",
       " [0, 0, 0, 500000, 1700000, 5000000, 4000000, 3500000, 0, 6000000, 8000000],\n",
       " [0, 1200000, 1000000, 2400000, 2500000, 2000000],\n",
       " [500000,\n",
       "  2000000,\n",
       "  3500000,\n",
       "  3700000,\n",
       "  2000000,\n",
       "  2000000,\n",
       "  1600000,\n",
       "  3000000,\n",
       "  3500000],\n",
       " [0, 0, 0],\n",
       " [0, 350000, 350000, 700000, 925000, 1000000, 1300000, 1500000],\n",
       " [75000, 150000, 300000, 300000, 1000000, 3000000],\n",
       " [250000, 2500000, 6000000, 12000000, 3000000, 3200000, 0, 2200000],\n",
       " [0],\n",
       " [0,\n",
       "  300000,\n",
       "  400000,\n",
       "  250000,\n",
       "  500000,\n",
       "  3000000,\n",
       "  3000000,\n",
       "  5000000,\n",
       "  6000000,\n",
       "  5000000,\n",
       "  3500000,\n",
       "  2500000,\n",
       "  2000000,\n",
       "  1500000,\n",
       "  1500000],\n",
       " [150000,\n",
       "  2500000,\n",
       "  5000000,\n",
       "  2000000,\n",
       "  1000000,\n",
       "  1200000,\n",
       "  2000000,\n",
       "  1300000,\n",
       "  1100000,\n",
       "  1000000],\n",
       " [0, 0, 0],\n",
       " [0, 0, 8000000, 22000000],\n",
       " [0, 1000000, 2500000, 4000000, 4000000, 0, 2500000],\n",
       " [0, 0, 0],\n",
       " [3600000, 14000000, 11000000],\n",
       " [200000, 0, 350000, 700000, 2500000, 3500000, 3500000, 4000000, 5000000],\n",
       " [350000, 1200000, 2500000, 3500000, 5500000],\n",
       " [750000, 800000, 2000000, 2000000, 4500000, 12000000],\n",
       " [0, 250000, 4000000, 5000000, 9000000, 8000000, 6500000, 3500000, 9000000],\n",
       " [0,\n",
       "  750000,\n",
       "  4000000,\n",
       "  4000000,\n",
       "  2500000,\n",
       "  4500000,\n",
       "  5500000,\n",
       "  5500000,\n",
       "  8000000,\n",
       "  15000000,\n",
       "  12000000,\n",
       "  12000000,\n",
       "  12000000],\n",
       " [0, 2300000, 2300000, 7000000],\n",
       " [0, 10000000],\n",
       " [350000, 1000000, 3000000, 2000000, 4000000, 4000000],\n",
       " [0, 0, 0, 0, 300000, 1500000, 2000000],\n",
       " [0],\n",
       " [0, 200000, 650000, 0, 900000, 4000000, 9000000, 9000000],\n",
       " [0, 0, 0, 0, 75000, 8000000],\n",
       " [0, 0, 800000, 700000, 4000000],\n",
       " [100000, 200000, 200000, 200000, 600000, 2500000]]"
      ]
     },
     "execution_count": 5,
     "metadata": {},
     "output_type": "execute_result"
    }
   ],
   "source": [
    "# MUDANÇAS: 1. kader pra startsite/ 2. attr\n",
    "transf.get_players_values()"
   ]
  },
  {
   "cell_type": "code",
   "execution_count": null,
   "metadata": {},
   "outputs": [],
   "source": []
  },
  {
   "cell_type": "code",
   "execution_count": 7,
   "metadata": {},
   "outputs": [],
   "source": [
    "\"\"\"\n",
    "To make the request to the page we have to inform the\n",
    "website that we are a browser and that is why we\n",
    "use the headers variable\n",
    "\"\"\"\n",
    "headers = {'User-Agent': 'Mozilla/5.0 (Windows NT 10.0; Win64; x64) AppleWebKit/537.36 (KHTML, like Gecko) Chrome/105.0.0.0 Safari/537.36'}\n",
    "\n",
    "# endereco_da_pagina stands for the data page address\n",
    "endereco_da_pagina = \"https://www.transfermarkt.com.br/sc-corinthians/kader/verein/199/saison_id/2005\"\n",
    "\n",
    "# In the objeto_response variable we will the download of the web page\n",
    "objeto_response = requests.get(endereco_da_pagina, headers=headers)\n",
    "\n",
    "\"\"\"\n",
    "Now we will create a BeautifulSoup object from our object_response.\n",
    "The 'html.parser' parameter represents which parser we will use when creating our object,\n",
    "a parser is a software responsible for converting an entry to a data structure.\n",
    "\"\"\"\n",
    "pagina_bs = BeautifulSoup(objeto_response.content, 'html.parser')"
   ]
  },
  {
   "cell_type": "code",
   "execution_count": 13,
   "metadata": {},
   "outputs": [
    {
     "name": "stdout",
     "output_type": "stream",
     "text": [
      "2500000\n"
     ]
    },
    {
     "data": {
      "text/plain": [
       "['Marcelo',\n",
       " 'Betão',\n",
       " 'Sebastián Domínguez',\n",
       " 'Marcus Vinícius',\n",
       " 'Gustavo Nery',\n",
       " 'Eduardo Ratinho',\n",
       " 'Fagner',\n",
       " 'Magrão',\n",
       " 'Xavier',\n",
       " 'Rafael Fefo',\n",
       " 'Wendel',\n",
       " 'Rosinei',\n",
       " 'Carlos Alberto',\n",
       " 'Marcelinho Carioca',\n",
       " 'Ramón',\n",
       " 'Daniel Grando',\n",
       " 'Nilmar',\n",
       " 'Nadson',\n",
       " 'Rafael Moura',\n",
       " 'Igor Siqueira',\n",
       " 'Johnny Herrera',\n",
       " 'Silvio Luiz',\n",
       " 'Marinho',\n",
       " 'Wescley',\n",
       " 'Marquinhos',\n",
       " 'Rubens Júnior',\n",
       " 'Coelho',\n",
       " 'Javier Mascherano',\n",
       " 'Paulo Almeida',\n",
       " 'Marcelo Mattos',\n",
       " 'Edson Sitta',\n",
       " 'Bruno Octávio',\n",
       " 'César',\n",
       " 'Ricardinho',\n",
       " 'Roger',\n",
       " 'Willian',\n",
       " 'Carlos Tevez',\n",
       " 'Márcio Amoroso',\n",
       " 'Wilson',\n",
       " 'Renato Ribeiro']"
      ]
     },
     "execution_count": 13,
     "metadata": {},
     "output_type": "execute_result"
    }
   ],
   "source": [
    "transfmkt_site = 'https://www.transfermarkt.com.br'\n",
    "\n",
    "# Players names\n",
    "# nomes_jog = [] # List that will receive all the players names - check\n",
    "# tags_nomes = pagina_bs.find_all(\"span\", {\"class\": \"show-for-small\"})\n",
    "# for tag_nome in tags_nomes:\n",
    "#     nomes_jog.append(tag_nome.text)\n",
    "\n",
    "tags_even = pagina_bs.find_all(\"tr\", {\"class\": \"even\"})\n",
    "tags_odd = pagina_bs.find_all(\"tr\", {\"class\": \"odd\"})\n",
    "# tags_posrela = pagina_bs.find_all(\"td\", {\"class\": \"posrela\"})\n",
    "all_tags = tags_even + tags_odd\n",
    "all_tags_att = BeautifulSoup(str(all_tags).strip('[]'), 'html.parser')\n",
    "#name = self.nomes_jog[cont_names]\n",
    "lista = []\n",
    "for tag in all_tags_att.find_all(\"td\", {\"class\": \"posrela\"}):#[0]#.img['alt']\n",
    "    #lista.append(tag.text)\n",
    "    lista.append(str(tag.a.text).strip())\n",
    "\n",
    "try:\n",
    "    name_turn = lista.index('Gustavo Nery')\n",
    "    player_tag = BeautifulSoup(str(all_tags[name_turn]).strip('[]'), 'html.parser')\n",
    "    player_value = player_tag.find(\"td\", {\"class\": \"rechts hauptlink\"}).text\n",
    "    #player_value = '1,40 mi. €'\n",
    "    if 'mil €' in player_value:\n",
    "        player_value = int(str(player_value.split()[0] + '000'))\n",
    "    else:\n",
    "        num_bef = str(player_value.split()[0].split(',')[0])\n",
    "        num_after = str(player_value.split()[0].split(',')[1][0])\n",
    "        player_value = int(num_bef + num_after + '00000')\n",
    "except:\n",
    "    player_value = 0\n",
    "\n",
    "    #player_value = int(str(player_value.split()[0].split(',')[0] + '000'))\n",
    "# for name in lista:\n",
    "#     if 'Weverton' in name:\n",
    "#         print(True)\n",
    "#     else:\n",
    "#         print(False)\n",
    "print(player_value)\n",
    "lista"
   ]
  },
  {
   "cell_type": "code",
   "execution_count": 8,
   "metadata": {},
   "outputs": [
    {
     "data": {
      "text/plain": [
       "['/se-palmeiras/transfers/verein/1023/saison_id/2019',\n",
       " '/athletico-paranaense/transfers/verein/679/saison_id/2018',\n",
       " '/sem-clube/transfers/verein/515/saison_id/2017',\n",
       " '/albirex-niigata/transfers/verein/8344/saison_id/2016',\n",
       " '/cruzeiro-ec/transfers/verein/609/saison_id/2016',\n",
       " '/nautico/transfers/verein/2646/saison_id/2015',\n",
       " '/cruzeiro-ec/transfers/verein/609/saison_id/2014']"
      ]
     },
     "execution_count": 8,
     "metadata": {},
     "output_type": "execute_result"
    }
   ],
   "source": [
    "tags_transf_clubs_all = pagina_bs.find_all(\"div\", {\"class\": \"tm-player-transfer-history-grid__new-club\"})\n",
    "tags_transf_clubs = BeautifulSoup(str(tags_transf_clubs_all).strip('[]'), 'html.parser')\n",
    "\n",
    "# SOLUÇÃO!!!!!\n",
    "transf_clubs = []\n",
    "for a in tags_transf_clubs.find_all('a', href = True):\n",
    "    if 'sem-clube' in a.get('href'):\n",
    "        transf_clubs.append(a.get('href'))\n",
    "        transf_clubs.append('x')\n",
    "    else:\n",
    "        transf_clubs.append(a.get('href'))\n",
    "\n",
    "pares = []\n",
    "for c in range(0,len(transf_clubs)):\n",
    "    if c % 2 == 0:\n",
    "        pares.append(c)\n",
    "    else:\n",
    "        pass\n",
    "\n",
    "transf_clubs_att = []\n",
    "for par in pares:\n",
    "    transf_clubs_att.append(transf_clubs[par])\n",
    "    \n",
    "transf_clubs_att"
   ]
  }
 ],
 "metadata": {
  "kernelspec": {
   "display_name": "Python 3.10.6 64-bit",
   "language": "python",
   "name": "python3"
  },
  "language_info": {
   "codemirror_mode": {
    "name": "ipython",
    "version": 3
   },
   "file_extension": ".py",
   "mimetype": "text/x-python",
   "name": "python",
   "nbconvert_exporter": "python",
   "pygments_lexer": "ipython3",
   "version": "3.10.6"
  },
  "orig_nbformat": 4,
  "vscode": {
   "interpreter": {
    "hash": "97cc609b13305c559618ec78a438abc56230b9381f827f22d070313b9a1f3777"
   }
  }
 },
 "nbformat": 4,
 "nbformat_minor": 2
}
