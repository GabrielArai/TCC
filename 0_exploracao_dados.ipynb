{
 "cells": [
  {
   "cell_type": "code",
   "execution_count": 1,
   "metadata": {},
   "outputs": [
    {
     "name": "stderr",
     "output_type": "stream",
     "text": [
      "/usr/lib/python3/dist-packages/requests/__init__.py:89: RequestsDependencyWarning: urllib3 (1.26.12) or chardet (3.0.4) doesn't match a supported version!\n",
      "  warnings.warn(\"urllib3 ({}) or chardet ({}) doesn't match a supported \"\n"
     ]
    }
   ],
   "source": [
    "import pandas as pd\n",
    "import numpy as np\n",
    "import requests\n",
    "import datetime as dt\n",
    "from bs4 import BeautifulSoup\n",
    "import ast\n",
    "from utils._funcs import creating_club_dataframe,Transfmkt"
   ]
  },
  {
   "cell_type": "markdown",
   "metadata": {},
   "source": [
    "##### Club name and id"
   ]
  },
  {
   "cell_type": "code",
   "execution_count": null,
   "metadata": {},
   "outputs": [],
   "source": []
  },
  {
   "cell_type": "markdown",
   "metadata": {},
   "source": [
    "##### Funcs"
   ]
  },
  {
   "cell_type": "code",
   "execution_count": 2,
   "metadata": {},
   "outputs": [
    {
     "ename": "NameError",
     "evalue": "name 'lst_test' is not defined",
     "output_type": "error",
     "traceback": [
      "\u001b[0;31m---------------------------------------------------------------------------\u001b[0m",
      "\u001b[0;31mNameError\u001b[0m                                 Traceback (most recent call last)",
      "\u001b[1;32m/home/gabriel/projetos/github/TCC/0_exploracao_dados.ipynb Cell 5\u001b[0m in \u001b[0;36m<cell line: 55>\u001b[0;34m()\u001b[0m\n\u001b[1;32m     <a href='vscode-notebook-cell://wsl%2Bubuntu/home/gabriel/projetos/github/TCC/0_exploracao_dados.ipynb#W4sdnNjb2RlLXJlbW90ZQ%3D%3D?line=53'>54</a>\u001b[0m lst_final \u001b[39m=\u001b[39m []\n\u001b[1;32m     <a href='vscode-notebook-cell://wsl%2Bubuntu/home/gabriel/projetos/github/TCC/0_exploracao_dados.ipynb#W4sdnNjb2RlLXJlbW90ZQ%3D%3D?line=54'>55</a>\u001b[0m \u001b[39mfor\u001b[39;00m \u001b[39mlist\u001b[39m \u001b[39min\u001b[39;00m saisons:\n\u001b[0;32m---> <a href='vscode-notebook-cell://wsl%2Bubuntu/home/gabriel/projetos/github/TCC/0_exploracao_dados.ipynb#W4sdnNjb2RlLXJlbW90ZQ%3D%3D?line=55'>56</a>\u001b[0m     lst_final\u001b[39m.\u001b[39mappend(get_saison_perf_links(\u001b[39mlist\u001b[39m,lst_test))\n\u001b[1;32m     <a href='vscode-notebook-cell://wsl%2Bubuntu/home/gabriel/projetos/github/TCC/0_exploracao_dados.ipynb#W4sdnNjb2RlLXJlbW90ZQ%3D%3D?line=57'>58</a>\u001b[0m lst_final \u001b[39m=\u001b[39m \u001b[39mstr\u001b[39m(lst_final)[\u001b[39m1\u001b[39m:\u001b[39m-\u001b[39m\u001b[39m1\u001b[39m]\n\u001b[1;32m     <a href='vscode-notebook-cell://wsl%2Bubuntu/home/gabriel/projetos/github/TCC/0_exploracao_dados.ipynb#W4sdnNjb2RlLXJlbW90ZQ%3D%3D?line=58'>59</a>\u001b[0m lst_final \u001b[39m=\u001b[39m \u001b[39meval\u001b[39m(lst_final)[\u001b[39m0\u001b[39m]\n",
      "\u001b[0;31mNameError\u001b[0m: name 'lst_test' is not defined"
     ]
    }
   ],
   "source": [
    "lst1 = ['05/06', '21/22', '10/11', '14/15']\n",
    "lst_sep = []\n",
    "# xx/yy - 21/22\n",
    "\n",
    "# for lst in lst1:\n",
    "#     lst_sep.append([lst])\n",
    "\n",
    "\n",
    "def get_all_seasons(temp,temp_limit):\n",
    "    all = []\n",
    "    all.append(temp)\n",
    "    if temp == temp_limit:\n",
    "        pass\n",
    "    else:\n",
    "        seasons_n = int(temp_limit[3:]) - int(temp[:2])\n",
    "        for season in range(1,seasons_n):\n",
    "            if float(temp[3:]) < 9.0:\n",
    "                temp = str(temp[3:]) + str('/0'+str(int(float(temp[3:])+1)))\n",
    "                all.append(temp)\n",
    "            else:\n",
    "                temp = str(temp[3:]) + str('/'+str(int(float(temp[3:])+1)))\n",
    "                all.append(temp)\n",
    "    return all\n",
    "\n",
    "\n",
    "get_all_seasons('00/01','21/22')\n",
    "\n",
    "for l in lst1:\n",
    "    lst_sep.append(get_all_seasons(l,'21/22'))\n",
    "\n",
    "\n",
    "def get_saison(list):\n",
    "    saison = []\n",
    "    for item in list:\n",
    "        saison.append(str('20'+item[:2]))\n",
    "\n",
    "    return saison\n",
    "\n",
    "def get_saison_perf_links(saisons_list,perf_links):\n",
    "    all_perf_season_links = []\n",
    "    for pflink in perf_links:\n",
    "        perf_season_links = []\n",
    "        for saison in saisons_list:\n",
    "            perf_season_links.append(str(pflink + '/plus/0?saison='+saison+'&verein=&liga=&wettbewerb=&pos=&trainer_id='))\n",
    "        all_perf_season_links.append(perf_season_links)\n",
    "    \n",
    "    return all_perf_season_links\n",
    "\n",
    "\n",
    "saisons = []\n",
    "for list in lst_sep:\n",
    "    saisons.append(get_saison(list))\n",
    "\n",
    "lst_final = []\n",
    "for list in saisons:\n",
    "    lst_final.append(get_saison_perf_links(list,lst_test))\n",
    "\n",
    "lst_final = str(lst_final)[1:-1]\n",
    "lst_final = eval(lst_final)[0]\n",
    "\n",
    "# lst_final = get_saison_perf_links((list for list in saisons),lst_test)\n",
    "lst_final"
   ]
  },
  {
   "cell_type": "markdown",
   "metadata": {},
   "source": [
    "## Transfermkt Class"
   ]
  },
  {
   "cell_type": "code",
   "execution_count": 2,
   "metadata": {},
   "outputs": [],
   "source": [
    "\"\"\"\n",
    "To make the request to the page we have to inform the\n",
    "website that we are a browser and that is why we\n",
    "use the headers variable\n",
    "\"\"\"\n",
    "headers = {'User-Agent': 'Mozilla/5.0 (Windows NT 10.0; Win64; x64) AppleWebKit/537.36 (KHTML, like Gecko) Chrome/105.0.0.0 Safari/537.36'}\n",
    "transf = Transfmkt('se-palmeiras','1023', headers)\n",
    "transf.creating_lists()"
   ]
  },
  {
   "cell_type": "code",
   "execution_count": 3,
   "metadata": {},
   "outputs": [
    {
     "name": "stdout",
     "output_type": "stream",
     "text": [
      "0\n",
      "11\n",
      "['/se-palmeiras/kader/verein/1023/saison_id/', '/athletico-paranaense/kader/verein/679/saison_id/', '/associacao-portuguesa-de-desportos-sp-/kader/verein/10247/saison_id/', '/botafogo-sp/kader/verein/9030/saison_id/', '/sc-corinthians/kader/verein/199/saison_id/', '/america-fc-rn-/kader/verein/1751/saison_id/', '/sc-corinthians/kader/verein/199/saison_id/', '/oeste-futebol-clube-sp-/kader/verein/21829/saison_id/', '/sc-corinthians/kader/verein/199/saison_id/', '/clube-do-remo/kader/verein/10997/saison_id/', '/sc-corinthians/kader/verein/199/saison_id/']\n",
      "Weverton foi\n",
      "1\n",
      "7\n",
      "['/se-palmeiras/kader/verein/1023/saison_id/', '/sc-internacional/kader/verein/6600/saison_id/', '/ec-bahia/kader/verein/10010/saison_id/', '/aa-ponte-preta/kader/verein/1134/saison_id/', '/ec-bahia/kader/verein/10010/saison_id/', '/cr-flamengo/kader/verein/614/saison_id/', '/ec-bahia/kader/verein/10010/saison_id/']\n",
      "Marcelo Lomba foi\n",
      "2\n",
      "5\n",
      "['/se-palmeiras/kader/verein/1023/saison_id/', '/crbtm/kader/verein/11449/saison_id/', '/se-palmeiras/kader/verein/1023/saison_id/', '/aa-ponte-preta/kader/verein/1134/saison_id/', '/se-palmeiras/kader/verein/1023/saison_id/']\n",
      "Vinicius Silvestre foi\n",
      "3\n",
      "6\n",
      "['/se-palmeiras/kader/verein/1023/saison_id/', '/ac-milan/kader/verein/5/saison_id/', '/se-palmeiras/kader/verein/1023/saison_id/', '/ac-milan/kader/verein/5/saison_id/', '/club-atletico-lanus/kader/verein/333/saison_id/', '/club-libertad-asuncion/kader/verein/9875/saison_id/']\n",
      "G. Gómez foi\n",
      "4\n",
      "3\n",
      "['/se-palmeiras/kader/verein/1023/saison_id/', '/lokomotiv-moscovo/kader/verein/932/saison_id/', '/cruzeiro-ec/kader/verein/609/saison_id/']\n",
      "Murilo foi\n",
      "5\n",
      "2\n",
      "['/se-palmeiras/kader/verein/1023/saison_id/', '/cr-vasco-da-gama/kader/verein/978/saison_id/']\n",
      "Luan foi\n",
      "6\n",
      "1\n",
      "['/se-palmeiras-u20/kader/verein/14807/saison_id/']\n",
      "Henri foi\n",
      "7\n",
      "4\n",
      "['/se-palmeiras/kader/verein/1023/saison_id/', '/cd-universidad-catolica/kader/verein/3277/saison_id/', '/real-madrid-sub-19/kader/verein/28870/saison_id/', '/cd-universidad-catolica/kader/verein/3277/saison_id/']\n",
      "B. Kuscevic foi\n",
      "8\n",
      "4\n",
      "['/se-palmeiras/kader/verein/1023/saison_id/', '/ca-penarol/kader/verein/861/saison_id/', '/atletico-river-plate-montevideo/kader/verein/2419/saison_id/', '/defensor-sporting-club/kader/verein/2619/saison_id/']\n",
      "J. Piquerez foi\n",
      "9\n",
      "9\n",
      "['/se-palmeiras/kader/verein/1023/saison_id/', '/as-monaco/kader/verein/162/saison_id/', '/fc-basel/kader/verein/26/saison_id/', '/as-monaco/kader/verein/162/saison_id/', '/santos-fc/kader/verein/221/saison_id/', '/as-monaco/kader/verein/162/saison_id/', '/futebol-clube-do-porto/kader/verein/720/saison_id/', '/as-monaco/kader/verein/162/saison_id/', '/cr-flamengo/kader/verein/614/saison_id/']\n",
      "Jorge foi\n",
      "10\n",
      "1\n",
      "['pegar_valor_a']\n",
      "Vanderlan foi\n",
      "11\n",
      "10\n",
      "['/se-palmeiras/kader/verein/1023/saison_id/', '/atletico-mineiro/kader/verein/330/saison_id/', '/se-palmeiras/kader/verein/1023/saison_id/', '/atletico-mineiro/kader/verein/330/saison_id/', '/america-mineiro/kader/verein/2863/saison_id/', '/atletico-mineiro/kader/verein/330/saison_id/', '/aa-ponte-preta/kader/verein/1134/saison_id/', '/atletico-mineiro/kader/verein/330/saison_id/', '/atletico-mineiro/kader/verein/330/saison_id/', '/crbtm/kader/verein/11449/saison_id/']\n",
      "Marcos Rocha foi\n",
      "12\n",
      "4\n",
      "['/se-palmeiras/kader/verein/1023/saison_id/', '/cruzeiro-ec/kader/verein/609/saison_id/', '/se-palmeiras/kader/verein/1023/saison_id/', '/cruzeiro-ec/kader/verein/609/saison_id/']\n",
      "Mayke foi\n",
      "13\n",
      "2\n",
      "['/se-palmeiras/kader/verein/1023/saison_id/', '/se-palmeiras-u20/kader/verein/14807/saison_id/']\n",
      "G. Garcia foi\n",
      "14\n",
      "3\n",
      "['/se-palmeiras/kader/verein/1023/saison_id/', '/pituacu-futebol-clube-cajazeiras-ba-/kader/verein/88140/saison_id/', '/se-palmeiras-u20/kader/verein/14807/saison_id/']\n",
      "Danilo foi\n",
      "15\n",
      "5\n",
      "['/se-palmeiras/kader/verein/1023/saison_id/', '/dalian-professional/kader/verein/33304/saison_id/', '/fenerbahce/kader/verein/36/saison_id/', '/gremio-fbpa/kader/verein/210/saison_id/', '/chapecoense/kader/verein/17776/saison_id/']\n",
      "Jailson foi\n",
      "16\n",
      "2\n",
      "['/se-palmeiras/kader/verein/1023/saison_id/', '/se-palmeiras-u20/kader/verein/14807/saison_id/']\n",
      "Fabinho foi\n",
      "17\n",
      "1\n",
      "['/se-palmeiras/kader/verein/1023/saison_id/']\n",
      "Gabriel Menino foi\n",
      "18\n",
      "8\n",
      "['/se-palmeiras/kader/verein/1023/saison_id/', '/ec-bahia/kader/verein/10010/saison_id/', '/coritiba-fc/kader/verein/776/saison_id/', '/londrina-ec/kader/verein/1693/saison_id/', '/coritiba-fc/kader/verein/776/saison_id/', '/londrina-ec/kader/verein/1693/saison_id/', '/coritiba-fc/kader/verein/776/saison_id/', '/esporte-clube-novo-hamburgo-rs-/kader/verein/8794/saison_id/']\n",
      "Zé Rafael foi\n",
      "19\n",
      "4\n",
      "['/se-palmeiras/kader/verein/1023/saison_id/', '/los-angeles-fc/kader/verein/51828/saison_id/', '/independiente-medellin/kader/verein/10093/saison_id/', '/los-angeles-fc/kader/verein/51828/saison_id/']\n",
      "E. Atuesta foi\n",
      "20\n",
      "3\n",
      "['/se-palmeiras/kader/verein/1023/saison_id/', '/athletico-paranaense/kader/verein/679/saison_id/', '/se-palmeiras/kader/verein/1023/saison_id/']\n",
      "Raphael Veiga foi\n",
      "21\n",
      "6\n",
      "['/se-palmeiras/kader/verein/1023/saison_id/', '/fluminense-fc/kader/verein/2462/saison_id/', '/se-palmeiras/kader/verein/1023/saison_id/', '/fluminense-fc/kader/verein/2462/saison_id/', '/red-bull-brasil-sp-/kader/verein/22767/saison_id/', '/fluminense-fc/kader/verein/2462/saison_id/']\n",
      "Gustavo Scarpa foi\n",
      "22\n",
      "8\n",
      "['/se-palmeiras/kader/verein/1023/saison_id/', '/al-duhail-sc/kader/verein/26091/saison_id/', '/se-palmeiras/kader/verein/1023/saison_id/', '/dinamo-kiev/kader/verein/338/saison_id/', '/gremio-fbpa/kader/verein/210/saison_id/', '/dinamo-kiev/kader/verein/338/saison_id/', '/cruzeiro-ec/kader/verein/609/saison_id/', '/coritiba-fc/kader/verein/776/saison_id/']\n",
      "Dudu foi\n",
      "23\n",
      "3\n",
      "['/se-palmeiras/kader/verein/1023/saison_id/', '/se-palmeiras-u20/kader/verein/14807/saison_id/', '/ec-vitoria/kader/verein/2125/saison_id/']\n",
      "Wesley foi\n",
      "24\n",
      "2\n",
      "['/se-palmeiras/kader/verein/1023/saison_id/', '/se-palmeiras-u20/kader/verein/14807/saison_id/']\n",
      "Giovani foi\n",
      "25\n",
      "3\n",
      "['/se-palmeiras/kader/verein/1023/saison_id/', '/sporting-clube-de-portugal/kader/verein/336/saison_id/', '/portimonense-sc/kader/verein/7378/saison_id/']\n",
      "Tabata foi\n",
      "26\n",
      "9\n",
      "['/se-palmeiras/kader/verein/1023/saison_id/', '/ec-juventude/kader/verein/10492/saison_id/', '/club-athletico-paranaense-b/kader/verein/16656/saison_id/', '/ec-juventude/kader/verein/10492/saison_id/', '/figueirense-fc/kader/verein/4064/saison_id/', '/ec-juventude/kader/verein/10492/saison_id/', '/joinville-ec/kader/verein/3330/saison_id/', '/joinville-esporte-clube-sc-u20/kader/verein/18135/saison_id/', '/ge-juventus-sc/kader/verein/10117/saison_id/']\n",
      "Breno Lopes foi\n",
      "27\n",
      "2\n",
      "['/se-palmeiras/kader/verein/1023/saison_id/', '/se-palmeiras-u20/kader/verein/14807/saison_id/']\n",
      "Endrick foi\n",
      "28\n",
      "6\n",
      "['/se-palmeiras/kader/verein/1023/saison_id/', '/athletico-paranaense/kader/verein/679/saison_id/', '/albirex-niigata/kader/verein/8344/saison_id/', '/cruzeiro-ec/kader/verein/609/saison_id/', '/nautico/kader/verein/2646/saison_id/', '/cruzeiro-ec/kader/verein/609/saison_id/']\n"
     ]
    },
    {
     "ename": "ValueError",
     "evalue": "All arrays must be of the same length",
     "output_type": "error",
     "traceback": [
      "\u001b[0;31m---------------------------------------------------------------------------\u001b[0m",
      "\u001b[0;31mValueError\u001b[0m                                Traceback (most recent call last)",
      "\u001b[1;32m/home/gabriel/projetos/github/TCC/0_exploracao_dados.ipynb Cell 8\u001b[0m in \u001b[0;36m<cell line: 2>\u001b[0;34m()\u001b[0m\n\u001b[1;32m      <a href='vscode-notebook-cell://wsl%2Bubuntu/home/gabriel/projetos/github/TCC/0_exploracao_dados.ipynb#X23sdnNjb2RlLXJlbW90ZQ%3D%3D?line=0'>1</a>\u001b[0m transf\u001b[39m.\u001b[39mget_players_seasons()\n\u001b[0;32m----> <a href='vscode-notebook-cell://wsl%2Bubuntu/home/gabriel/projetos/github/TCC/0_exploracao_dados.ipynb#X23sdnNjb2RlLXJlbW90ZQ%3D%3D?line=1'>2</a>\u001b[0m saison_transf \u001b[39m=\u001b[39m transf\u001b[39m.\u001b[39;49mget_values_links()\n",
      "File \u001b[0;32m~/projetos/github/TCC/utils/_funcs.py:282\u001b[0m, in \u001b[0;36mTransfmkt.get_values_links\u001b[0;34m(self)\u001b[0m\n\u001b[1;32m    274\u001b[0m dic_transf \u001b[39m=\u001b[39m {\n\u001b[1;32m    275\u001b[0m     \u001b[39m'\u001b[39m\u001b[39mdata\u001b[39m\u001b[39m'\u001b[39m:saison_transf[num],\n\u001b[1;32m    276\u001b[0m     \u001b[39m'\u001b[39m\u001b[39mlink_valor\u001b[39m\u001b[39m'\u001b[39m:link_transf_no_saison,\n\u001b[1;32m    277\u001b[0m     \u001b[39m'\u001b[39m\u001b[39mnome\u001b[39m\u001b[39m'\u001b[39m:\u001b[39mself\u001b[39m\u001b[39m.\u001b[39mnomes_jog[num]\n\u001b[1;32m    278\u001b[0m }\n\u001b[1;32m    280\u001b[0m dic_dates \u001b[39m=\u001b[39m {\u001b[39m'\u001b[39m\u001b[39mdata\u001b[39m\u001b[39m'\u001b[39m:\u001b[39mself\u001b[39m\u001b[39m.\u001b[39msaisons[num]}\n\u001b[0;32m--> 282\u001b[0m df_transf \u001b[39m=\u001b[39m pd\u001b[39m.\u001b[39;49mDataFrame(dic_transf)\n\u001b[1;32m    283\u001b[0m df_dates \u001b[39m=\u001b[39m pd\u001b[39m.\u001b[39mDataFrame(dic_dates)\n\u001b[1;32m    285\u001b[0m df_transf \u001b[39m=\u001b[39m df_transf\u001b[39m.\u001b[39mgroupby(\u001b[39m'\u001b[39m\u001b[39mdata\u001b[39m\u001b[39m'\u001b[39m)\u001b[39m.\u001b[39mfirst()\u001b[39m.\u001b[39mreset_index()\n",
      "File \u001b[0;32m~/.local/lib/python3.10/site-packages/pandas/core/frame.py:636\u001b[0m, in \u001b[0;36mDataFrame.__init__\u001b[0;34m(self, data, index, columns, dtype, copy)\u001b[0m\n\u001b[1;32m    630\u001b[0m     mgr \u001b[39m=\u001b[39m \u001b[39mself\u001b[39m\u001b[39m.\u001b[39m_init_mgr(\n\u001b[1;32m    631\u001b[0m         data, axes\u001b[39m=\u001b[39m{\u001b[39m\"\u001b[39m\u001b[39mindex\u001b[39m\u001b[39m\"\u001b[39m: index, \u001b[39m\"\u001b[39m\u001b[39mcolumns\u001b[39m\u001b[39m\"\u001b[39m: columns}, dtype\u001b[39m=\u001b[39mdtype, copy\u001b[39m=\u001b[39mcopy\n\u001b[1;32m    632\u001b[0m     )\n\u001b[1;32m    634\u001b[0m \u001b[39melif\u001b[39;00m \u001b[39misinstance\u001b[39m(data, \u001b[39mdict\u001b[39m):\n\u001b[1;32m    635\u001b[0m     \u001b[39m# GH#38939 de facto copy defaults to False only in non-dict cases\u001b[39;00m\n\u001b[0;32m--> 636\u001b[0m     mgr \u001b[39m=\u001b[39m dict_to_mgr(data, index, columns, dtype\u001b[39m=\u001b[39;49mdtype, copy\u001b[39m=\u001b[39;49mcopy, typ\u001b[39m=\u001b[39;49mmanager)\n\u001b[1;32m    637\u001b[0m \u001b[39melif\u001b[39;00m \u001b[39misinstance\u001b[39m(data, ma\u001b[39m.\u001b[39mMaskedArray):\n\u001b[1;32m    638\u001b[0m     \u001b[39mimport\u001b[39;00m \u001b[39mnumpy\u001b[39;00m\u001b[39m.\u001b[39;00m\u001b[39mma\u001b[39;00m\u001b[39m.\u001b[39;00m\u001b[39mmrecords\u001b[39;00m \u001b[39mas\u001b[39;00m \u001b[39mmrecords\u001b[39;00m\n",
      "File \u001b[0;32m~/.local/lib/python3.10/site-packages/pandas/core/internals/construction.py:502\u001b[0m, in \u001b[0;36mdict_to_mgr\u001b[0;34m(data, index, columns, dtype, typ, copy)\u001b[0m\n\u001b[1;32m    494\u001b[0m     arrays \u001b[39m=\u001b[39m [\n\u001b[1;32m    495\u001b[0m         x\n\u001b[1;32m    496\u001b[0m         \u001b[39mif\u001b[39;00m \u001b[39mnot\u001b[39;00m \u001b[39mhasattr\u001b[39m(x, \u001b[39m\"\u001b[39m\u001b[39mdtype\u001b[39m\u001b[39m\"\u001b[39m) \u001b[39mor\u001b[39;00m \u001b[39mnot\u001b[39;00m \u001b[39misinstance\u001b[39m(x\u001b[39m.\u001b[39mdtype, ExtensionDtype)\n\u001b[1;32m    497\u001b[0m         \u001b[39melse\u001b[39;00m x\u001b[39m.\u001b[39mcopy()\n\u001b[1;32m    498\u001b[0m         \u001b[39mfor\u001b[39;00m x \u001b[39min\u001b[39;00m arrays\n\u001b[1;32m    499\u001b[0m     ]\n\u001b[1;32m    500\u001b[0m     \u001b[39m# TODO: can we get rid of the dt64tz special case above?\u001b[39;00m\n\u001b[0;32m--> 502\u001b[0m \u001b[39mreturn\u001b[39;00m arrays_to_mgr(arrays, columns, index, dtype\u001b[39m=\u001b[39;49mdtype, typ\u001b[39m=\u001b[39;49mtyp, consolidate\u001b[39m=\u001b[39;49mcopy)\n",
      "File \u001b[0;32m~/.local/lib/python3.10/site-packages/pandas/core/internals/construction.py:120\u001b[0m, in \u001b[0;36marrays_to_mgr\u001b[0;34m(arrays, columns, index, dtype, verify_integrity, typ, consolidate)\u001b[0m\n\u001b[1;32m    117\u001b[0m \u001b[39mif\u001b[39;00m verify_integrity:\n\u001b[1;32m    118\u001b[0m     \u001b[39m# figure out the index, if necessary\u001b[39;00m\n\u001b[1;32m    119\u001b[0m     \u001b[39mif\u001b[39;00m index \u001b[39mis\u001b[39;00m \u001b[39mNone\u001b[39;00m:\n\u001b[0;32m--> 120\u001b[0m         index \u001b[39m=\u001b[39m _extract_index(arrays)\n\u001b[1;32m    121\u001b[0m     \u001b[39melse\u001b[39;00m:\n\u001b[1;32m    122\u001b[0m         index \u001b[39m=\u001b[39m ensure_index(index)\n",
      "File \u001b[0;32m~/.local/lib/python3.10/site-packages/pandas/core/internals/construction.py:674\u001b[0m, in \u001b[0;36m_extract_index\u001b[0;34m(data)\u001b[0m\n\u001b[1;32m    672\u001b[0m lengths \u001b[39m=\u001b[39m \u001b[39mlist\u001b[39m(\u001b[39mset\u001b[39m(raw_lengths))\n\u001b[1;32m    673\u001b[0m \u001b[39mif\u001b[39;00m \u001b[39mlen\u001b[39m(lengths) \u001b[39m>\u001b[39m \u001b[39m1\u001b[39m:\n\u001b[0;32m--> 674\u001b[0m     \u001b[39mraise\u001b[39;00m \u001b[39mValueError\u001b[39;00m(\u001b[39m\"\u001b[39m\u001b[39mAll arrays must be of the same length\u001b[39m\u001b[39m\"\u001b[39m)\n\u001b[1;32m    676\u001b[0m \u001b[39mif\u001b[39;00m have_dicts:\n\u001b[1;32m    677\u001b[0m     \u001b[39mraise\u001b[39;00m \u001b[39mValueError\u001b[39;00m(\n\u001b[1;32m    678\u001b[0m         \u001b[39m\"\u001b[39m\u001b[39mMixing dicts with non-Series may lead to ambiguous ordering.\u001b[39m\u001b[39m\"\u001b[39m\n\u001b[1;32m    679\u001b[0m     )\n",
      "\u001b[0;31mValueError\u001b[0m: All arrays must be of the same length"
     ]
    }
   ],
   "source": [
    "transf.get_players_seasons()\n",
    "saison_transf = transf.get_values_links()"
   ]
  },
  {
   "cell_type": "code",
   "execution_count": null,
   "metadata": {},
   "outputs": [],
   "source": []
  },
  {
   "cell_type": "code",
   "execution_count": 8,
   "metadata": {},
   "outputs": [
    {
     "name": "stdout",
     "output_type": "stream",
     "text": [
      "11/7/5/6/3/2/1/4/4/9/1/10/4/2/3/5/2/1/8/4/3/6/8/3/2/3/9/2/7/4/4/12/"
     ]
    }
   ],
   "source": [
    "for saison in saison_transf:\n",
    "    print(len(saison), end = '/')"
   ]
  },
  {
   "cell_type": "markdown",
   "metadata": {},
   "source": [
    "### Gráfico interativo"
   ]
  },
  {
   "cell_type": "code",
   "execution_count": 2,
   "metadata": {},
   "outputs": [],
   "source": [
    "from selenium.webdriver.chrome.options import Options\n",
    "from selenium.webdriver.support.ui import WebDriverWait\n",
    "from selenium.webdriver.support import expected_conditions as EC\n",
    "from selenium.webdriver.common.by import By\n",
    "from selenium import webdriver\n",
    "import chromedriver_binary\n",
    "import datetime as dt\n",
    "import pandas as pd\n",
    "\n",
    "# Opening the connection and grabbing the page\n",
    "my_url = 'https://www.google.com/webhp?hl=en'\n",
    "option = Options()\n",
    "option.headless = True"
   ]
  },
  {
   "cell_type": "code",
   "execution_count": 3,
   "metadata": {},
   "outputs": [
    {
     "ename": "FileNotFoundError",
     "evalue": "[Errno 2] No such file or directory: 'Xvfb'",
     "output_type": "error",
     "traceback": [
      "\u001b[0;31m---------------------------------------------------------------------------\u001b[0m",
      "\u001b[0;31mFileNotFoundError\u001b[0m                         Traceback (most recent call last)",
      "\u001b[1;32m/home/gabriel/projetos/github/TCC/0_exploracao_dados.ipynb Cell 13\u001b[0m in \u001b[0;36m<cell line: 2>\u001b[0;34m()\u001b[0m\n\u001b[1;32m      <a href='vscode-notebook-cell://wsl%2Bubuntu/home/gabriel/projetos/github/TCC/0_exploracao_dados.ipynb#X15sdnNjb2RlLXJlbW90ZQ%3D%3D?line=0'>1</a>\u001b[0m \u001b[39mfrom\u001b[39;00m \u001b[39mpyvirtualdisplay\u001b[39;00m \u001b[39mimport\u001b[39;00m Display\n\u001b[0;32m----> <a href='vscode-notebook-cell://wsl%2Bubuntu/home/gabriel/projetos/github/TCC/0_exploracao_dados.ipynb#X15sdnNjb2RlLXJlbW90ZQ%3D%3D?line=1'>2</a>\u001b[0m display \u001b[39m=\u001b[39m Display(visible\u001b[39m=\u001b[39;49m\u001b[39m0\u001b[39;49m, size\u001b[39m=\u001b[39;49m(\u001b[39m800\u001b[39;49m, \u001b[39m800\u001b[39;49m))  \n\u001b[1;32m      <a href='vscode-notebook-cell://wsl%2Bubuntu/home/gabriel/projetos/github/TCC/0_exploracao_dados.ipynb#X15sdnNjb2RlLXJlbW90ZQ%3D%3D?line=2'>3</a>\u001b[0m display\u001b[39m.\u001b[39mstart()\n\u001b[1;32m      <a href='vscode-notebook-cell://wsl%2Bubuntu/home/gabriel/projetos/github/TCC/0_exploracao_dados.ipynb#X15sdnNjb2RlLXJlbW90ZQ%3D%3D?line=3'>4</a>\u001b[0m driver \u001b[39m=\u001b[39m webdriver\u001b[39m.\u001b[39mChrome(executable_path\u001b[39m=\u001b[39m\u001b[39m'\u001b[39m\u001b[39m/home/gabriel/.local/bin/chromedriver\u001b[39m\u001b[39m'\u001b[39m,options\u001b[39m=\u001b[39moption)\n",
      "File \u001b[0;32m~/.local/lib/python3.10/site-packages/pyvirtualdisplay/display.py:54\u001b[0m, in \u001b[0;36mDisplay.__init__\u001b[0;34m(self, backend, visible, size, color_depth, bgcolor, use_xauth, retries, extra_args, manage_global_env, **kwargs)\u001b[0m\n\u001b[1;32m     51\u001b[0m \u001b[39mif\u001b[39;00m \u001b[39mnot\u001b[39;00m \u001b[39mcls\u001b[39m:\n\u001b[1;32m     52\u001b[0m     \u001b[39mraise\u001b[39;00m \u001b[39mValueError\u001b[39;00m(\u001b[39m\"\u001b[39m\u001b[39munknown backend: \u001b[39m\u001b[39m%s\u001b[39;00m\u001b[39m\"\u001b[39m \u001b[39m%\u001b[39m \u001b[39mself\u001b[39m\u001b[39m.\u001b[39m_backend)\n\u001b[0;32m---> 54\u001b[0m \u001b[39mself\u001b[39m\u001b[39m.\u001b[39m_obj \u001b[39m=\u001b[39m \u001b[39mcls\u001b[39;49m(\n\u001b[1;32m     55\u001b[0m     size\u001b[39m=\u001b[39;49msize,\n\u001b[1;32m     56\u001b[0m     color_depth\u001b[39m=\u001b[39;49mcolor_depth,\n\u001b[1;32m     57\u001b[0m     bgcolor\u001b[39m=\u001b[39;49mbgcolor,\n\u001b[1;32m     58\u001b[0m     retries\u001b[39m=\u001b[39;49mretries,\n\u001b[1;32m     59\u001b[0m     use_xauth\u001b[39m=\u001b[39;49muse_xauth,\n\u001b[1;32m     60\u001b[0m     \u001b[39m# check_startup=check_startup,\u001b[39;49;00m\n\u001b[1;32m     61\u001b[0m     extra_args\u001b[39m=\u001b[39;49mextra_args,\n\u001b[1;32m     62\u001b[0m     manage_global_env\u001b[39m=\u001b[39;49mmanage_global_env,\n\u001b[1;32m     63\u001b[0m     \u001b[39m*\u001b[39;49m\u001b[39m*\u001b[39;49mkwargs\n\u001b[1;32m     64\u001b[0m )\n",
      "File \u001b[0;32m~/.local/lib/python3.10/site-packages/pyvirtualdisplay/xvfb.py:44\u001b[0m, in \u001b[0;36mXvfbDisplay.__init__\u001b[0;34m(self, size, color_depth, bgcolor, use_xauth, fbdir, dpi, retries, extra_args, manage_global_env)\u001b[0m\n\u001b[1;32m     41\u001b[0m \u001b[39mself\u001b[39m\u001b[39m.\u001b[39m_fbdir \u001b[39m=\u001b[39m fbdir\n\u001b[1;32m     42\u001b[0m \u001b[39mself\u001b[39m\u001b[39m.\u001b[39m_dpi \u001b[39m=\u001b[39m dpi\n\u001b[0;32m---> 44\u001b[0m AbstractDisplay\u001b[39m.\u001b[39;49m\u001b[39m__init__\u001b[39;49m(\n\u001b[1;32m     45\u001b[0m     \u001b[39mself\u001b[39;49m,\n\u001b[1;32m     46\u001b[0m     PROGRAM,\n\u001b[1;32m     47\u001b[0m     use_xauth\u001b[39m=\u001b[39;49muse_xauth,\n\u001b[1;32m     48\u001b[0m     retries\u001b[39m=\u001b[39;49mretries,\n\u001b[1;32m     49\u001b[0m     extra_args\u001b[39m=\u001b[39;49mextra_args,\n\u001b[1;32m     50\u001b[0m     manage_global_env\u001b[39m=\u001b[39;49mmanage_global_env,\n\u001b[1;32m     51\u001b[0m )\n",
      "File \u001b[0;32m~/.local/lib/python3.10/site-packages/pyvirtualdisplay/abstractdisplay.py:85\u001b[0m, in \u001b[0;36mAbstractDisplay.__init__\u001b[0;34m(self, program, use_xauth, retries, extra_args, manage_global_env)\u001b[0m\n\u001b[1;32m     82\u001b[0m \u001b[39mself\u001b[39m\u001b[39m.\u001b[39m_pipe_wfd \u001b[39m=\u001b[39m \u001b[39mNone\u001b[39;00m\n\u001b[1;32m     83\u001b[0m \u001b[39mself\u001b[39m\u001b[39m.\u001b[39m_retries_current \u001b[39m=\u001b[39m \u001b[39m0\u001b[39m\n\u001b[0;32m---> 85\u001b[0m helptext \u001b[39m=\u001b[39m get_helptext(program)\n\u001b[1;32m     86\u001b[0m \u001b[39mself\u001b[39m\u001b[39m.\u001b[39m_has_displayfd \u001b[39m=\u001b[39m \u001b[39m\"\u001b[39m\u001b[39m-displayfd\u001b[39m\u001b[39m\"\u001b[39m \u001b[39min\u001b[39;00m helptext\n\u001b[1;32m     87\u001b[0m \u001b[39mif\u001b[39;00m \u001b[39mnot\u001b[39;00m \u001b[39mself\u001b[39m\u001b[39m.\u001b[39m_has_displayfd:\n",
      "File \u001b[0;32m~/.local/lib/python3.10/site-packages/pyvirtualdisplay/util.py:13\u001b[0m, in \u001b[0;36mget_helptext\u001b[0;34m(program)\u001b[0m\n\u001b[1;32m      6\u001b[0m cmd \u001b[39m=\u001b[39m [program, \u001b[39m\"\u001b[39m\u001b[39m-help\u001b[39m\u001b[39m\"\u001b[39m]\n\u001b[1;32m      8\u001b[0m \u001b[39m# py3.7+\u001b[39;00m\n\u001b[1;32m      9\u001b[0m \u001b[39m# p = subprocess.run(cmd, capture_output=True)\u001b[39;00m\n\u001b[1;32m     10\u001b[0m \u001b[39m# stderr = p.stderr\u001b[39;00m\n\u001b[1;32m     11\u001b[0m \n\u001b[1;32m     12\u001b[0m \u001b[39m# py3.6 also\u001b[39;00m\n\u001b[0;32m---> 13\u001b[0m p \u001b[39m=\u001b[39m subprocess\u001b[39m.\u001b[39;49mPopen(\n\u001b[1;32m     14\u001b[0m     cmd,\n\u001b[1;32m     15\u001b[0m     stdout\u001b[39m=\u001b[39;49msubprocess\u001b[39m.\u001b[39;49mPIPE,\n\u001b[1;32m     16\u001b[0m     stderr\u001b[39m=\u001b[39;49msubprocess\u001b[39m.\u001b[39;49mPIPE,\n\u001b[1;32m     17\u001b[0m     shell\u001b[39m=\u001b[39;49m\u001b[39mFalse\u001b[39;49;00m,\n\u001b[1;32m     18\u001b[0m )\n\u001b[1;32m     19\u001b[0m _, stderr \u001b[39m=\u001b[39m p\u001b[39m.\u001b[39mcommunicate()\n\u001b[1;32m     21\u001b[0m helptext \u001b[39m=\u001b[39m stderr\u001b[39m.\u001b[39mdecode(\u001b[39m\"\u001b[39m\u001b[39mutf-8\u001b[39m\u001b[39m\"\u001b[39m, \u001b[39m\"\u001b[39m\u001b[39mignore\u001b[39m\u001b[39m\"\u001b[39m)\n",
      "File \u001b[0;32m/usr/lib/python3.10/subprocess.py:969\u001b[0m, in \u001b[0;36mPopen.__init__\u001b[0;34m(self, args, bufsize, executable, stdin, stdout, stderr, preexec_fn, close_fds, shell, cwd, env, universal_newlines, startupinfo, creationflags, restore_signals, start_new_session, pass_fds, user, group, extra_groups, encoding, errors, text, umask, pipesize)\u001b[0m\n\u001b[1;32m    965\u001b[0m         \u001b[39mif\u001b[39;00m \u001b[39mself\u001b[39m\u001b[39m.\u001b[39mtext_mode:\n\u001b[1;32m    966\u001b[0m             \u001b[39mself\u001b[39m\u001b[39m.\u001b[39mstderr \u001b[39m=\u001b[39m io\u001b[39m.\u001b[39mTextIOWrapper(\u001b[39mself\u001b[39m\u001b[39m.\u001b[39mstderr,\n\u001b[1;32m    967\u001b[0m                     encoding\u001b[39m=\u001b[39mencoding, errors\u001b[39m=\u001b[39merrors)\n\u001b[0;32m--> 969\u001b[0m     \u001b[39mself\u001b[39;49m\u001b[39m.\u001b[39;49m_execute_child(args, executable, preexec_fn, close_fds,\n\u001b[1;32m    970\u001b[0m                         pass_fds, cwd, env,\n\u001b[1;32m    971\u001b[0m                         startupinfo, creationflags, shell,\n\u001b[1;32m    972\u001b[0m                         p2cread, p2cwrite,\n\u001b[1;32m    973\u001b[0m                         c2pread, c2pwrite,\n\u001b[1;32m    974\u001b[0m                         errread, errwrite,\n\u001b[1;32m    975\u001b[0m                         restore_signals,\n\u001b[1;32m    976\u001b[0m                         gid, gids, uid, umask,\n\u001b[1;32m    977\u001b[0m                         start_new_session)\n\u001b[1;32m    978\u001b[0m \u001b[39mexcept\u001b[39;00m:\n\u001b[1;32m    979\u001b[0m     \u001b[39m# Cleanup if the child failed starting.\u001b[39;00m\n\u001b[1;32m    980\u001b[0m     \u001b[39mfor\u001b[39;00m f \u001b[39min\u001b[39;00m \u001b[39mfilter\u001b[39m(\u001b[39mNone\u001b[39;00m, (\u001b[39mself\u001b[39m\u001b[39m.\u001b[39mstdin, \u001b[39mself\u001b[39m\u001b[39m.\u001b[39mstdout, \u001b[39mself\u001b[39m\u001b[39m.\u001b[39mstderr)):\n",
      "File \u001b[0;32m/usr/lib/python3.10/subprocess.py:1845\u001b[0m, in \u001b[0;36mPopen._execute_child\u001b[0;34m(self, args, executable, preexec_fn, close_fds, pass_fds, cwd, env, startupinfo, creationflags, shell, p2cread, p2cwrite, c2pread, c2pwrite, errread, errwrite, restore_signals, gid, gids, uid, umask, start_new_session)\u001b[0m\n\u001b[1;32m   1843\u001b[0m     \u001b[39mif\u001b[39;00m errno_num \u001b[39m!=\u001b[39m \u001b[39m0\u001b[39m:\n\u001b[1;32m   1844\u001b[0m         err_msg \u001b[39m=\u001b[39m os\u001b[39m.\u001b[39mstrerror(errno_num)\n\u001b[0;32m-> 1845\u001b[0m     \u001b[39mraise\u001b[39;00m child_exception_type(errno_num, err_msg, err_filename)\n\u001b[1;32m   1846\u001b[0m \u001b[39mraise\u001b[39;00m child_exception_type(err_msg)\n",
      "\u001b[0;31mFileNotFoundError\u001b[0m: [Errno 2] No such file or directory: 'Xvfb'"
     ]
    }
   ],
   "source": [
    "from pyvirtualdisplay import Display\n",
    "display = Display(visible=0, size=(800, 800))  \n",
    "display.start()\n",
    "driver = webdriver.Chrome(executable_path='/home/gabriel/.local/bin/chromedriver',options=option)\n",
    "driver.get(my_url)\n",
    "driver.maximize_window()"
   ]
  },
  {
   "cell_type": "code",
   "execution_count": null,
   "metadata": {},
   "outputs": [],
   "source": []
  }
 ],
 "metadata": {
  "kernelspec": {
   "display_name": "Python 3.10.6 64-bit",
   "language": "python",
   "name": "python3"
  },
  "language_info": {
   "codemirror_mode": {
    "name": "ipython",
    "version": 3
   },
   "file_extension": ".py",
   "mimetype": "text/x-python",
   "name": "python",
   "nbconvert_exporter": "python",
   "pygments_lexer": "ipython3",
   "version": "3.10.6"
  },
  "orig_nbformat": 4,
  "vscode": {
   "interpreter": {
    "hash": "97cc609b13305c559618ec78a438abc56230b9381f827f22d070313b9a1f3777"
   }
  }
 },
 "nbformat": 4,
 "nbformat_minor": 2
}
