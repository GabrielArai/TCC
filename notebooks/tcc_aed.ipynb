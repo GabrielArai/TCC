{
 "cells": [
  {
   "attachments": {},
   "cell_type": "markdown",
   "metadata": {},
   "source": [
    "# AED - Prevendo expectativa de gols com IA"
   ]
  },
  {
   "attachments": {},
   "cell_type": "markdown",
   "metadata": {},
   "source": [
    "## Sumário\n",
    "a) Importando as bibliotecas\n",
    "\n",
    "b) Leitura dos arquivos\n",
    "\n",
    "### 1. Quantidade de gols por minuto\n",
    "### 2. Quantidade de gols por jogada\n",
    "### 3. Chance de sair gol por jogada\n",
    "### 4. Chance de sair gol de acordo com a última ação realizada antes do gol\n",
    "### 5. Importância de se jogar fora ou dentro de casa \n",
    "### 6. Avaliando a temporada de um jogador de acordo com as suas chances criadas"
   ]
  },
  {
   "attachments": {},
   "cell_type": "markdown",
   "metadata": {},
   "source": [
    "---"
   ]
  },
  {
   "attachments": {},
   "cell_type": "markdown",
   "metadata": {},
   "source": [
    "#### a) Importando as bibliotecas"
   ]
  },
  {
   "cell_type": "code",
   "execution_count": 1,
   "metadata": {},
   "outputs": [],
   "source": [
    "import numpy as np\n",
    "import pandas as pd\n",
    "import matplotlib.pyplot as plt"
   ]
  },
  {
   "attachments": {},
   "cell_type": "markdown",
   "metadata": {},
   "source": [
    "#### b) Leitura dos arquivos"
   ]
  },
  {
   "cell_type": "code",
   "execution_count": 2,
   "metadata": {},
   "outputs": [
    {
     "name": "stdout",
     "output_type": "stream",
     "text": [
      "(362781, 20)\n"
     ]
    },
    {
     "data": {
      "text/html": [
       "<div>\n",
       "<style scoped>\n",
       "    .dataframe tbody tr th:only-of-type {\n",
       "        vertical-align: middle;\n",
       "    }\n",
       "\n",
       "    .dataframe tbody tr th {\n",
       "        vertical-align: top;\n",
       "    }\n",
       "\n",
       "    .dataframe thead th {\n",
       "        text-align: right;\n",
       "    }\n",
       "</style>\n",
       "<table border=\"1\" class=\"dataframe\">\n",
       "  <thead>\n",
       "    <tr style=\"text-align: right;\">\n",
       "      <th></th>\n",
       "      <th>league</th>\n",
       "      <th>minute</th>\n",
       "      <th>result</th>\n",
       "      <th>X</th>\n",
       "      <th>Y</th>\n",
       "      <th>xG</th>\n",
       "      <th>player</th>\n",
       "      <th>h_a</th>\n",
       "      <th>player_id</th>\n",
       "      <th>situation</th>\n",
       "      <th>season</th>\n",
       "      <th>shotType</th>\n",
       "      <th>match_id</th>\n",
       "      <th>home_team</th>\n",
       "      <th>away_team</th>\n",
       "      <th>home_goals</th>\n",
       "      <th>away_goals</th>\n",
       "      <th>date</th>\n",
       "      <th>player_assisted</th>\n",
       "      <th>lastAction</th>\n",
       "    </tr>\n",
       "  </thead>\n",
       "  <tbody>\n",
       "    <tr>\n",
       "      <th>0</th>\n",
       "      <td>Bundesliga</td>\n",
       "      <td>11</td>\n",
       "      <td>SavedShot</td>\n",
       "      <td>0.903</td>\n",
       "      <td>0.239</td>\n",
       "      <td>0.034118</td>\n",
       "      <td>Thomas Müller</td>\n",
       "      <td>h</td>\n",
       "      <td>224</td>\n",
       "      <td>OpenPlay</td>\n",
       "      <td>2014</td>\n",
       "      <td>RightFoot</td>\n",
       "      <td>5447</td>\n",
       "      <td>Bayern Munich</td>\n",
       "      <td>Wolfsburg</td>\n",
       "      <td>2</td>\n",
       "      <td>1</td>\n",
       "      <td>2014-08-22 19:30:00</td>\n",
       "      <td>Philipp Lahm</td>\n",
       "      <td>Chipped</td>\n",
       "    </tr>\n",
       "    <tr>\n",
       "      <th>1</th>\n",
       "      <td>Bundesliga</td>\n",
       "      <td>17</td>\n",
       "      <td>SavedShot</td>\n",
       "      <td>0.852</td>\n",
       "      <td>0.277</td>\n",
       "      <td>0.030941</td>\n",
       "      <td>Arjen Robben</td>\n",
       "      <td>h</td>\n",
       "      <td>392</td>\n",
       "      <td>OpenPlay</td>\n",
       "      <td>2014</td>\n",
       "      <td>LeftFoot</td>\n",
       "      <td>5447</td>\n",
       "      <td>Bayern Munich</td>\n",
       "      <td>Wolfsburg</td>\n",
       "      <td>2</td>\n",
       "      <td>1</td>\n",
       "      <td>2014-08-22 19:30:00</td>\n",
       "      <td>Philipp Lahm</td>\n",
       "      <td>Pass</td>\n",
       "    </tr>\n",
       "    <tr>\n",
       "      <th>2</th>\n",
       "      <td>Bundesliga</td>\n",
       "      <td>26</td>\n",
       "      <td>BlockedShot</td>\n",
       "      <td>0.803</td>\n",
       "      <td>0.277</td>\n",
       "      <td>0.021718</td>\n",
       "      <td>Arjen Robben</td>\n",
       "      <td>h</td>\n",
       "      <td>392</td>\n",
       "      <td>OpenPlay</td>\n",
       "      <td>2014</td>\n",
       "      <td>LeftFoot</td>\n",
       "      <td>5447</td>\n",
       "      <td>Bayern Munich</td>\n",
       "      <td>Wolfsburg</td>\n",
       "      <td>2</td>\n",
       "      <td>1</td>\n",
       "      <td>2014-08-22 19:30:00</td>\n",
       "      <td>Holger Badstuber</td>\n",
       "      <td>Chipped</td>\n",
       "    </tr>\n",
       "    <tr>\n",
       "      <th>3</th>\n",
       "      <td>Bundesliga</td>\n",
       "      <td>28</td>\n",
       "      <td>SavedShot</td>\n",
       "      <td>0.871</td>\n",
       "      <td>0.324</td>\n",
       "      <td>0.050345</td>\n",
       "      <td>Thomas Müller</td>\n",
       "      <td>h</td>\n",
       "      <td>224</td>\n",
       "      <td>OpenPlay</td>\n",
       "      <td>2014</td>\n",
       "      <td>LeftFoot</td>\n",
       "      <td>5447</td>\n",
       "      <td>Bayern Munich</td>\n",
       "      <td>Wolfsburg</td>\n",
       "      <td>2</td>\n",
       "      <td>1</td>\n",
       "      <td>2014-08-22 19:30:00</td>\n",
       "      <td>nobody</td>\n",
       "      <td>NaN</td>\n",
       "    </tr>\n",
       "    <tr>\n",
       "      <th>4</th>\n",
       "      <td>Bundesliga</td>\n",
       "      <td>29</td>\n",
       "      <td>SavedShot</td>\n",
       "      <td>0.918</td>\n",
       "      <td>0.531</td>\n",
       "      <td>0.111078</td>\n",
       "      <td>Robert Lewandowski</td>\n",
       "      <td>h</td>\n",
       "      <td>227</td>\n",
       "      <td>OpenPlay</td>\n",
       "      <td>2014</td>\n",
       "      <td>RightFoot</td>\n",
       "      <td>5447</td>\n",
       "      <td>Bayern Munich</td>\n",
       "      <td>Wolfsburg</td>\n",
       "      <td>2</td>\n",
       "      <td>1</td>\n",
       "      <td>2014-08-22 19:30:00</td>\n",
       "      <td>Gianluca Gaudino</td>\n",
       "      <td>Chipped</td>\n",
       "    </tr>\n",
       "  </tbody>\n",
       "</table>\n",
       "</div>"
      ],
      "text/plain": [
       "       league  minute       result      X      Y        xG   \n",
       "0  Bundesliga      11    SavedShot  0.903  0.239  0.034118  \\\n",
       "1  Bundesliga      17    SavedShot  0.852  0.277  0.030941   \n",
       "2  Bundesliga      26  BlockedShot  0.803  0.277  0.021718   \n",
       "3  Bundesliga      28    SavedShot  0.871  0.324  0.050345   \n",
       "4  Bundesliga      29    SavedShot  0.918  0.531  0.111078   \n",
       "\n",
       "               player h_a  player_id situation  season   shotType  match_id   \n",
       "0       Thomas Müller   h        224  OpenPlay    2014  RightFoot      5447  \\\n",
       "1        Arjen Robben   h        392  OpenPlay    2014   LeftFoot      5447   \n",
       "2        Arjen Robben   h        392  OpenPlay    2014   LeftFoot      5447   \n",
       "3       Thomas Müller   h        224  OpenPlay    2014   LeftFoot      5447   \n",
       "4  Robert Lewandowski   h        227  OpenPlay    2014  RightFoot      5447   \n",
       "\n",
       "       home_team  away_team  home_goals  away_goals                 date   \n",
       "0  Bayern Munich  Wolfsburg           2           1  2014-08-22 19:30:00  \\\n",
       "1  Bayern Munich  Wolfsburg           2           1  2014-08-22 19:30:00   \n",
       "2  Bayern Munich  Wolfsburg           2           1  2014-08-22 19:30:00   \n",
       "3  Bayern Munich  Wolfsburg           2           1  2014-08-22 19:30:00   \n",
       "4  Bayern Munich  Wolfsburg           2           1  2014-08-22 19:30:00   \n",
       "\n",
       "    player_assisted lastAction  \n",
       "0      Philipp Lahm    Chipped  \n",
       "1      Philipp Lahm       Pass  \n",
       "2  Holger Badstuber    Chipped  \n",
       "3            nobody        NaN  \n",
       "4  Gianluca Gaudino    Chipped  "
      ]
     },
     "execution_count": 2,
     "metadata": {},
     "output_type": "execute_result"
    }
   ],
   "source": [
    "df_xg = pd.read_csv('../data/intermediate/top5_xg.csv')\n",
    "print(df_xg.shape)\n",
    "df_xg.head()"
   ]
  },
  {
   "cell_type": "code",
   "execution_count": 3,
   "metadata": {},
   "outputs": [
    {
     "data": {
      "text/plain": [
       "array(['Bundesliga', 'EPL', 'Serie_A', 'La_liga', 'Ligue_1'], dtype=object)"
      ]
     },
     "execution_count": 3,
     "metadata": {},
     "output_type": "execute_result"
    }
   ],
   "source": [
    "df_xg.league.unique()"
   ]
  },
  {
   "attachments": {},
   "cell_type": "markdown",
   "metadata": {},
   "source": [
    "### 1. Análise da quantidade de gols por minuto"
   ]
  },
  {
   "cell_type": "code",
   "execution_count": 4,
   "metadata": {},
   "outputs": [],
   "source": [
    "# Filtro do df\n",
    "df_filt = df_xg[(df_xg.result == 'Goal')&(df_xg.league == 'Serie_A')&(df_xg.season == 2015)]\n",
    "df_filt = df_filt.groupby(\"minute\")[\"result\"].count().reset_index()"
   ]
  },
  {
   "cell_type": "code",
   "execution_count": 5,
   "metadata": {},
   "outputs": [
    {
     "data": {
      "image/png": "[encoded data removed]",
      "text/plain": [
       "<Figure size 640x480 with 1 Axes>"
      ]
     },
     "metadata": {},
     "output_type": "display_data"
    }
   ],
   "source": [
    "plt.bar(df_filt.minute, df_filt.result)\n",
    "\n",
    "# Adicionar rótulos e título\n",
    "plt.xlabel('Minuto')\n",
    "plt.ylabel('Quantidade de Gols')\n",
    "plt.title('Quantidade de Gols por Minuto')\n",
    "\n",
    "# Exibir o gráfico\n",
    "plt.show()"
   ]
  },
  {
   "attachments": {},
   "cell_type": "markdown",
   "metadata": {},
   "source": [
    "### 2. Análise da quantidade de gols por jogada"
   ]
  },
  {
   "cell_type": "code",
   "execution_count": 11,
   "metadata": {},
   "outputs": [],
   "source": [
    "# Filtro do df\n",
    "df_filt = df_xg[(df_xg.result == 'Goal')&(df_xg.league == 'Serie_A')&(df_xg.season == 2017)]\n",
    "df_filt = df_filt.groupby(\"situation\")[\"result\"].count().reset_index()"
   ]
  },
  {
   "cell_type": "code",
   "execution_count": 12,
   "metadata": {},
   "outputs": [
    {
     "data": {
      "image/png": "[encoded data removed]",
      "text/plain": [
       "<Figure size 640x480 with 1 Axes>"
      ]
     },
     "metadata": {},
     "output_type": "display_data"
    }
   ],
   "source": [
    "plt.bar(df_filt.situation, df_filt.result)\n",
    "\n",
    "# Adicionar rótulos e título\n",
    "plt.xlabel('Tipo de jogada')\n",
    "plt.ylabel('Quantidade de Gols')\n",
    "plt.title('Quantidade de Gols por Tipo de jogada')\n",
    "\n",
    "# Exibir o gráfico\n",
    "plt.show()"
   ]
  },
  {
   "attachments": {},
   "cell_type": "markdown",
   "metadata": {},
   "source": [
    "### 3. Análise da chance de sair gol por jogada"
   ]
  },
  {
   "cell_type": "code",
   "execution_count": 33,
   "metadata": {},
   "outputs": [
    {
     "data": {
      "text/html": [
       "<div>\n",
       "<style scoped>\n",
       "    .dataframe tbody tr th:only-of-type {\n",
       "        vertical-align: middle;\n",
       "    }\n",
       "\n",
       "    .dataframe tbody tr th {\n",
       "        vertical-align: top;\n",
       "    }\n",
       "\n",
       "    .dataframe thead th {\n",
       "        text-align: right;\n",
       "    }\n",
       "</style>\n",
       "<table border=\"1\" class=\"dataframe\">\n",
       "  <thead>\n",
       "    <tr style=\"text-align: right;\">\n",
       "      <th></th>\n",
       "      <th>situation</th>\n",
       "      <th>xG</th>\n",
       "    </tr>\n",
       "  </thead>\n",
       "  <tbody>\n",
       "    <tr>\n",
       "      <th>0</th>\n",
       "      <td>DirectFreekick</td>\n",
       "      <td>0.062123</td>\n",
       "    </tr>\n",
       "    <tr>\n",
       "      <th>1</th>\n",
       "      <td>FromCorner</td>\n",
       "      <td>0.307496</td>\n",
       "    </tr>\n",
       "    <tr>\n",
       "      <th>2</th>\n",
       "      <td>OpenPlay</td>\n",
       "      <td>0.308322</td>\n",
       "    </tr>\n",
       "    <tr>\n",
       "      <th>3</th>\n",
       "      <td>Penalty</td>\n",
       "      <td>0.760083</td>\n",
       "    </tr>\n",
       "    <tr>\n",
       "      <th>4</th>\n",
       "      <td>SetPiece</td>\n",
       "      <td>0.345138</td>\n",
       "    </tr>\n",
       "  </tbody>\n",
       "</table>\n",
       "</div>"
      ],
      "text/plain": [
       "        situation        xG\n",
       "0  DirectFreekick  0.062123\n",
       "1      FromCorner  0.307496\n",
       "2        OpenPlay  0.308322\n",
       "3         Penalty  0.760083\n",
       "4        SetPiece  0.345138"
      ]
     },
     "execution_count": 33,
     "metadata": {},
     "output_type": "execute_result"
    }
   ],
   "source": [
    "df_filt = df_xg[(df_xg.result == 'Goal')&(df_xg.league == 'Ligue_1')&(df_xg.season == 2020)]\n",
    "df_filt = df_filt.groupby(\"situation\")[\"xG\"].mean().reset_index()\n",
    "df_filt"
   ]
  },
  {
   "attachments": {},
   "cell_type": "markdown",
   "metadata": {},
   "source": [
    "### 4. Análise da chance de sair gol de acordo com a última ação realizada antes do gol"
   ]
  },
  {
   "cell_type": "code",
   "execution_count": 34,
   "metadata": {},
   "outputs": [
    {
     "data": {
      "text/html": [
       "<div>\n",
       "<style scoped>\n",
       "    .dataframe tbody tr th:only-of-type {\n",
       "        vertical-align: middle;\n",
       "    }\n",
       "\n",
       "    .dataframe tbody tr th {\n",
       "        vertical-align: top;\n",
       "    }\n",
       "\n",
       "    .dataframe thead th {\n",
       "        text-align: right;\n",
       "    }\n",
       "</style>\n",
       "<table border=\"1\" class=\"dataframe\">\n",
       "  <thead>\n",
       "    <tr style=\"text-align: right;\">\n",
       "      <th></th>\n",
       "      <th>lastAction</th>\n",
       "      <th>xG</th>\n",
       "    </tr>\n",
       "  </thead>\n",
       "  <tbody>\n",
       "    <tr>\n",
       "      <th>0</th>\n",
       "      <td>Aerial</td>\n",
       "      <td>0.144722</td>\n",
       "    </tr>\n",
       "    <tr>\n",
       "      <th>1</th>\n",
       "      <td>BallRecovery</td>\n",
       "      <td>0.217438</td>\n",
       "    </tr>\n",
       "    <tr>\n",
       "      <th>2</th>\n",
       "      <td>BallTouch</td>\n",
       "      <td>0.254311</td>\n",
       "    </tr>\n",
       "    <tr>\n",
       "      <th>3</th>\n",
       "      <td>BlockedPass</td>\n",
       "      <td>0.604156</td>\n",
       "    </tr>\n",
       "    <tr>\n",
       "      <th>4</th>\n",
       "      <td>Chipped</td>\n",
       "      <td>0.232386</td>\n",
       "    </tr>\n",
       "    <tr>\n",
       "      <th>5</th>\n",
       "      <td>CornerAwarded</td>\n",
       "      <td>0.145767</td>\n",
       "    </tr>\n",
       "    <tr>\n",
       "      <th>6</th>\n",
       "      <td>Cross</td>\n",
       "      <td>0.303071</td>\n",
       "    </tr>\n",
       "    <tr>\n",
       "      <th>7</th>\n",
       "      <td>Dispossessed</td>\n",
       "      <td>0.128795</td>\n",
       "    </tr>\n",
       "    <tr>\n",
       "      <th>8</th>\n",
       "      <td>HeadPass</td>\n",
       "      <td>0.315778</td>\n",
       "    </tr>\n",
       "    <tr>\n",
       "      <th>9</th>\n",
       "      <td>Interception</td>\n",
       "      <td>0.063662</td>\n",
       "    </tr>\n",
       "    <tr>\n",
       "      <th>10</th>\n",
       "      <td>LayOff</td>\n",
       "      <td>0.022882</td>\n",
       "    </tr>\n",
       "    <tr>\n",
       "      <th>11</th>\n",
       "      <td>Pass</td>\n",
       "      <td>0.301206</td>\n",
       "    </tr>\n",
       "    <tr>\n",
       "      <th>12</th>\n",
       "      <td>Rebound</td>\n",
       "      <td>0.437722</td>\n",
       "    </tr>\n",
       "    <tr>\n",
       "      <th>13</th>\n",
       "      <td>Standard</td>\n",
       "      <td>0.668846</td>\n",
       "    </tr>\n",
       "    <tr>\n",
       "      <th>14</th>\n",
       "      <td>Tackle</td>\n",
       "      <td>0.293985</td>\n",
       "    </tr>\n",
       "    <tr>\n",
       "      <th>15</th>\n",
       "      <td>TakeOn</td>\n",
       "      <td>0.370824</td>\n",
       "    </tr>\n",
       "    <tr>\n",
       "      <th>16</th>\n",
       "      <td>Throughball</td>\n",
       "      <td>0.375530</td>\n",
       "    </tr>\n",
       "  </tbody>\n",
       "</table>\n",
       "</div>"
      ],
      "text/plain": [
       "       lastAction        xG\n",
       "0          Aerial  0.144722\n",
       "1    BallRecovery  0.217438\n",
       "2       BallTouch  0.254311\n",
       "3     BlockedPass  0.604156\n",
       "4         Chipped  0.232386\n",
       "5   CornerAwarded  0.145767\n",
       "6           Cross  0.303071\n",
       "7    Dispossessed  0.128795\n",
       "8        HeadPass  0.315778\n",
       "9    Interception  0.063662\n",
       "10         LayOff  0.022882\n",
       "11           Pass  0.301206\n",
       "12        Rebound  0.437722\n",
       "13       Standard  0.668846\n",
       "14         Tackle  0.293985\n",
       "15         TakeOn  0.370824\n",
       "16    Throughball  0.375530"
      ]
     },
     "execution_count": 34,
     "metadata": {},
     "output_type": "execute_result"
    }
   ],
   "source": [
    "df_filt = df_xg[(df_xg.result == 'Goal')&(df_xg.league == 'Ligue_1')&(df_xg.season == 2020)]\n",
    "df_filt = df_filt.groupby(\"lastAction\")[\"xG\"].mean().reset_index()\n",
    "df_filt"
   ]
  },
  {
   "attachments": {},
   "cell_type": "markdown",
   "metadata": {},
   "source": [
    "### 5. Importância de se jogar fora ou dentro de casa "
   ]
  },
  {
   "cell_type": "code",
   "execution_count": 121,
   "metadata": {},
   "outputs": [
    {
     "name": "stdout",
     "output_type": "stream",
     "text": [
      "(21599, 20)\n",
      "(17088, 20)\n"
     ]
    }
   ],
   "source": [
    "df_filt_home = df_xg[(df_xg.h_a == 'h')&(df_xg.result == 'Goal')]\n",
    "df_filt_away = df_xg[(df_xg.h_a == 'a')&(df_xg.result == 'Goal')]\n",
    "print(df_filt_home.shape)\n",
    "print(df_filt_away.shape)"
   ]
  },
  {
   "attachments": {},
   "cell_type": "markdown",
   "metadata": {},
   "source": [
    "### 6. Avaliando a temporada de um jogador de acordo com as suas chances criadas"
   ]
  },
  {
   "cell_type": "code",
   "execution_count": 118,
   "metadata": {},
   "outputs": [],
   "source": [
    "df_filt = df_xg[(df_xg.league == 'Ligue_1')&(df_xg.season == 2021)]"
   ]
  },
  {
   "attachments": {},
   "cell_type": "markdown",
   "metadata": {},
   "source": [
    "##### Por gol"
   ]
  },
  {
   "cell_type": "code",
   "execution_count": 146,
   "metadata": {},
   "outputs": [
    {
     "data": {
      "text/html": [
       "<div>\n",
       "<style scoped>\n",
       "    .dataframe tbody tr th:only-of-type {\n",
       "        vertical-align: middle;\n",
       "    }\n",
       "\n",
       "    .dataframe tbody tr th {\n",
       "        vertical-align: top;\n",
       "    }\n",
       "\n",
       "    .dataframe thead th {\n",
       "        text-align: right;\n",
       "    }\n",
       "</style>\n",
       "<table border=\"1\" class=\"dataframe\">\n",
       "  <thead>\n",
       "    <tr style=\"text-align: right;\">\n",
       "      <th></th>\n",
       "      <th>player</th>\n",
       "      <th>xG</th>\n",
       "    </tr>\n",
       "  </thead>\n",
       "  <tbody>\n",
       "    <tr>\n",
       "      <th>0</th>\n",
       "      <td>Victor Osimhen</td>\n",
       "      <td>39.753944</td>\n",
       "    </tr>\n",
       "  </tbody>\n",
       "</table>\n",
       "</div>"
      ],
      "text/plain": [
       "           player         xG\n",
       "0  Victor Osimhen  39.753944"
      ]
     },
     "execution_count": 146,
     "metadata": {},
     "output_type": "execute_result"
    }
   ],
   "source": [
    "test = df_xg[df_xg.player == 'Victor Osimhen']\n",
    "#test = test[test.result == 'Goal']\n",
    "test.groupby(\"player\")[\"xG\"].sum().reset_index()"
   ]
  },
  {
   "cell_type": "code",
   "execution_count": 147,
   "metadata": {},
   "outputs": [
    {
     "data": {
      "text/html": [
       "<div>\n",
       "<style scoped>\n",
       "    .dataframe tbody tr th:only-of-type {\n",
       "        vertical-align: middle;\n",
       "    }\n",
       "\n",
       "    .dataframe tbody tr th {\n",
       "        vertical-align: top;\n",
       "    }\n",
       "\n",
       "    .dataframe thead th {\n",
       "        text-align: right;\n",
       "    }\n",
       "</style>\n",
       "<table border=\"1\" class=\"dataframe\">\n",
       "  <thead>\n",
       "    <tr style=\"text-align: right;\">\n",
       "      <th></th>\n",
       "      <th>player</th>\n",
       "      <th>result</th>\n",
       "    </tr>\n",
       "  </thead>\n",
       "  <tbody>\n",
       "    <tr>\n",
       "      <th>0</th>\n",
       "      <td>Victor Osimhen</td>\n",
       "      <td>37</td>\n",
       "    </tr>\n",
       "  </tbody>\n",
       "</table>\n",
       "</div>"
      ],
      "text/plain": [
       "           player  result\n",
       "0  Victor Osimhen      37"
      ]
     },
     "execution_count": 147,
     "metadata": {},
     "output_type": "execute_result"
    }
   ],
   "source": [
    "test = test[test.result == 'Goal']\n",
    "test.groupby(\"player\")[\"result\"].count().reset_index()"
   ]
  },
  {
   "attachments": {},
   "cell_type": "markdown",
   "metadata": {},
   "source": [
    "##### Por assistência"
   ]
  },
  {
   "cell_type": "code",
   "execution_count": 155,
   "metadata": {},
   "outputs": [
    {
     "data": {
      "text/html": [
       "<div>\n",
       "<style scoped>\n",
       "    .dataframe tbody tr th:only-of-type {\n",
       "        vertical-align: middle;\n",
       "    }\n",
       "\n",
       "    .dataframe tbody tr th {\n",
       "        vertical-align: top;\n",
       "    }\n",
       "\n",
       "    .dataframe thead th {\n",
       "        text-align: right;\n",
       "    }\n",
       "</style>\n",
       "<table border=\"1\" class=\"dataframe\">\n",
       "  <thead>\n",
       "    <tr style=\"text-align: right;\">\n",
       "      <th></th>\n",
       "      <th>player_assisted</th>\n",
       "      <th>xG</th>\n",
       "    </tr>\n",
       "  </thead>\n",
       "  <tbody>\n",
       "    <tr>\n",
       "      <th>0</th>\n",
       "      <td>Kevin De Bruyne</td>\n",
       "      <td>101.135446</td>\n",
       "    </tr>\n",
       "  </tbody>\n",
       "</table>\n",
       "</div>"
      ],
      "text/plain": [
       "   player_assisted          xG\n",
       "0  Kevin De Bruyne  101.135446"
      ]
     },
     "execution_count": 155,
     "metadata": {},
     "output_type": "execute_result"
    }
   ],
   "source": [
    "test = df_xg[df_xg.player_assisted.isin(['Kevin De Bruyne'])]\n",
    "#test = test[test.result == 'Goal']\n",
    "test.groupby(\"player_assisted\")[\"xG\"].sum().reset_index()"
   ]
  },
  {
   "cell_type": "code",
   "execution_count": 156,
   "metadata": {},
   "outputs": [
    {
     "data": {
      "text/html": [
       "<div>\n",
       "<style scoped>\n",
       "    .dataframe tbody tr th:only-of-type {\n",
       "        vertical-align: middle;\n",
       "    }\n",
       "\n",
       "    .dataframe tbody tr th {\n",
       "        vertical-align: top;\n",
       "    }\n",
       "\n",
       "    .dataframe thead th {\n",
       "        text-align: right;\n",
       "    }\n",
       "</style>\n",
       "<table border=\"1\" class=\"dataframe\">\n",
       "  <thead>\n",
       "    <tr style=\"text-align: right;\">\n",
       "      <th></th>\n",
       "      <th>player_assisted</th>\n",
       "      <th>result</th>\n",
       "    </tr>\n",
       "  </thead>\n",
       "  <tbody>\n",
       "    <tr>\n",
       "      <th>0</th>\n",
       "      <td>Kevin De Bruyne</td>\n",
       "      <td>105</td>\n",
       "    </tr>\n",
       "  </tbody>\n",
       "</table>\n",
       "</div>"
      ],
      "text/plain": [
       "   player_assisted  result\n",
       "0  Kevin De Bruyne     105"
      ]
     },
     "execution_count": 156,
     "metadata": {},
     "output_type": "execute_result"
    }
   ],
   "source": [
    "test = test[test.result == 'Goal']\n",
    "test.groupby(\"player_assisted\")[\"result\"].count().reset_index()"
   ]
  },
  {
   "attachments": {},
   "cell_type": "markdown",
   "metadata": {},
   "source": [
    "## Insights Gerados\n",
    "- Kane>>>>Messi>>>>CR7"
   ]
  },
  {
   "attachments": {},
   "cell_type": "markdown",
   "metadata": {},
   "source": []
  }
 ],
 "metadata": {
  "kernelspec": {
   "display_name": "Python 3",
   "language": "python",
   "name": "python3"
  },
  "language_info": {
   "codemirror_mode": {
    "name": "ipython",
    "version": 3
   },
   "file_extension": ".py",
   "mimetype": "text/x-python",
   "name": "python",
   "nbconvert_exporter": "python",
   "pygments_lexer": "ipython3",
   "version": "3.10.0"
  },
  "orig_nbformat": 4
 },
 "nbformat": 4,
 "nbformat_minor": 2
}
